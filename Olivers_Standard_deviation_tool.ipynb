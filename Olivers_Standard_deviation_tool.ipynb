{
 "cells": [
  {
   "cell_type": "code",
   "execution_count": 1,
   "metadata": {},
   "outputs": [
    {
     "data": {
      "application/vnd.jupyter.widget-view+json": {
       "model_id": "86917c03d15b4e08bd6d5e289c74fc3d",
       "version_major": 2,
       "version_minor": 0
      },
      "text/plain": [
       "interactive(children=(FloatSlider(value=1.0, description='b', max=3.0, min=-1.0, step=0.01), FloatSlider(value…"
      ]
     },
     "metadata": {},
     "output_type": "display_data"
    }
   ],
   "source": [
    "from ipywidgets import interactive\n",
    "import matplotlib.pyplot as plt\n",
    "import numpy as np\n",
    "\n",
    "def stdev(data):\n",
    "    ##First we take the mean of our data\n",
    "    mean=np.mean(data)\n",
    "    ##Then for each value in our data we subtract the mean\n",
    "    variance=data-mean\n",
    "    ##We square the resulting numbers which can be thought of as the difference between each number and the mean\n",
    "    variance=np.square(variance)\n",
    "    ##We then take the mean of these squared differences\n",
    "    variance=np.mean(variance)\n",
    "    ##We then take the square root of the mean squared difference\n",
    "    stdev=np.sqrt(variance)\n",
    "    ##And we are done :)\n",
    "    return(stdev)\n",
    "  \n",
    "x = np.linspace(1,10,10)\n",
    "\n",
    "y = np.ones(np.shape(x))\n",
    "\n",
    "def update(b,a):\n",
    "    fig = plt.figure(figsize=(8, 5))\n",
    "    ax = fig.add_subplot(1, 1, 1)\n",
    "    ax.hlines(1,-5,15)  # Draw a horizontal line\n",
    "    ax.text(0, 0, 'My text')\n",
    "    line, = ax.plot(x,y,linestyle='--', marker='o', color='b')\n",
    "    line.set_xdata((b * x +a))\n",
    "    fig.canvas.draw_idle()\n",
    "    standard_deviation=stdev((b * x +a))\n",
    "    charted=ax.text(0, 0, 0 , ha=\"center\")\n",
    "    for txt in ax.texts:\n",
    "        txt.set_visible(False)\n",
    "    \n",
    "    for i in ((b * x +a)):\n",
    "        charted=ax.text(i, 1.005, np.round(i,1) , ha=\"center\")\n",
    "    textbox=ax.text(1,1.02,\"standard deviation: {}\".format(np.round(standard_deviation,4)))\n",
    "    \n",
    "interactive_plot = interactive(update, b=(-1.0, 3.0,0.01), a=(-3, 3,0.01))\n",
    "output = interactive_plot.children[-1]\n",
    "output.layout.height = '350px'\n",
    "interactive_plot"
   ]
  },
  {
   "cell_type": "code",
   "execution_count": null,
   "metadata": {},
   "outputs": [],
   "source": []
  }
 ],
 "metadata": {
  "kernelspec": {
   "display_name": "Python 3",
   "language": "python",
   "name": "python3"
  },
  "language_info": {
   "codemirror_mode": {
    "name": "ipython",
    "version": 3
   },
   "file_extension": ".py",
   "mimetype": "text/x-python",
   "name": "python",
   "nbconvert_exporter": "python",
   "pygments_lexer": "ipython3",
   "version": "3.7.6"
  }
 },
 "nbformat": 4,
 "nbformat_minor": 4
}
