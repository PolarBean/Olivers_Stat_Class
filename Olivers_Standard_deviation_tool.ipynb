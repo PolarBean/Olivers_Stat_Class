{
 "cells": [
  {
   "cell_type": "code",
   "execution_count": 2,
   "metadata": {},
   "outputs": [
    {
     "name": "stdout",
     "output_type": "stream",
     "text": [
      "WARNING: pip is being invoked by an old script wrapper. This will fail in a future version of pip.\n",
      "Please see https://github.com/pypa/pip/issues/5599 for advice on fixing the underlying issue.\n",
      "To avoid this problem you can invoke Python with '-m pip' instead of running pip directly.\n",
      "Collecting matplotlib\n",
      "  Downloading matplotlib-3.2.1-cp37-cp37m-manylinux1_x86_64.whl (12.4 MB)\n",
      "\u001b[K     |████████████████████████████████| 12.4 MB 3.5 MB/s eta 0:00:01\n",
      "\u001b[?25hCollecting pyparsing!=2.0.4,!=2.1.2,!=2.1.6,>=2.0.1\n",
      "  Downloading pyparsing-2.4.7-py2.py3-none-any.whl (67 kB)\n",
      "\u001b[K     |████████████████████████████████| 67 kB 7.9 MB/s  eta 0:00:01\n",
      "\u001b[?25hCollecting cycler>=0.10\n",
      "  Downloading cycler-0.10.0-py2.py3-none-any.whl (6.5 kB)\n",
      "Collecting numpy>=1.11\n",
      "  Downloading numpy-1.18.2-cp37-cp37m-manylinux1_x86_64.whl (20.2 MB)\n",
      "\u001b[K     |████████████████████████████████| 20.2 MB 33.9 MB/s eta 0:00:01\n",
      "\u001b[?25hCollecting kiwisolver>=1.0.1\n",
      "  Downloading kiwisolver-1.2.0-cp37-cp37m-manylinux1_x86_64.whl (88 kB)\n",
      "\u001b[K     |████████████████████████████████| 88 kB 12.8 MB/s eta 0:00:01\n",
      "\u001b[?25hRequirement already satisfied: python-dateutil>=2.1 in /srv/conda/envs/notebook/lib/python3.7/site-packages (from matplotlib) (2.8.1)\n",
      "Requirement already satisfied: six in /srv/conda/envs/notebook/lib/python3.7/site-packages (from cycler>=0.10->matplotlib) (1.14.0)\n",
      "Installing collected packages: pyparsing, cycler, numpy, kiwisolver, matplotlib\n",
      "Successfully installed cycler-0.10.0 kiwisolver-1.2.0 matplotlib-3.2.1 numpy-1.18.2 pyparsing-2.4.7\n"
     ]
    }
   ],
   "source": [
    "!pip install matplotlib"
   ]
  },
  {
   "cell_type": "code",
   "execution_count": 8,
   "metadata": {},
   "outputs": [
    {
     "data": {
      "application/vnd.jupyter.widget-view+json": {
       "model_id": "8948fa4b3e074fabbd8ca2b46ac66c59",
       "version_major": 2,
       "version_minor": 0
      },
      "text/plain": [
       "interactive(children=(FloatSlider(value=1.0, description='b', max=3.0, min=-1.0, step=0.01), FloatSlider(value…"
      ]
     },
     "metadata": {},
     "output_type": "display_data"
    }
   ],
   "source": [
    "from ipywidgets import interactive\n",
    "import matplotlib.pyplot as plt\n",
    "import numpy as np\n",
    "\n",
    "def stdev(data):\n",
    "    ##First we take the mean of our data\n",
    "    mean=np.mean(data)\n",
    "    ##Then for each value in our data we subtract the mean\n",
    "    variance=data-mean\n",
    "    ##We square the resulting numbers which can be thought of as the difference between each number and the mean\n",
    "    variance=np.square(variance)\n",
    "    ##We then take the mean of these squared differences\n",
    "    variance=np.mean(variance)\n",
    "    ##We then take the square root of the mean squared difference\n",
    "    stdev=np.sqrt(variance)\n",
    "    ##And we are done :)\n",
    "    return(stdev)\n",
    "  \n",
    "x = np.linspace(1,10,5)\n",
    "\n",
    "y = np.ones(np.shape(x))\n",
    "\n",
    "def update(b,a):\n",
    "    fig = plt.figure(figsize=(13, 5))\n",
    "    ax = fig.add_subplot(1, 1, 1)\n",
    "    ax.hlines(1,-5,15)  # Draw a horizontal line\n",
    "    ax.text(0, 0, 'My text')\n",
    "    line, = ax.plot(x,y,linestyle='--', marker='o', color='b')\n",
    "    line.set_xdata((b * x +a))\n",
    "    fig.canvas.draw_idle()\n",
    "    standard_deviation=stdev((b * x +a))\n",
    "    charted=ax.text(0, 0, 0 , ha=\"center\")\n",
    "    for txt in ax.texts:\n",
    "        txt.set_visible(False)\n",
    "    \n",
    "    for i in ((b * x +a)):\n",
    "        charted=ax.text(i, 1.005, np.round(i,1) , ha=\"center\")\n",
    "    textbox=ax.text(1,1.02,\"standard deviation: {}\".format(np.round(standard_deviation,4)))\n",
    "    ax.axvline((b * x +a).mean(), color='k', linestyle='dashed', linewidth=1)\n",
    "interactive_plot = interactive(update, b=(-1.0, 3.0,0.01), a=(-3, 3,0.01))\n",
    "output = interactive_plot.children[-1]\n",
    "output.layout.height = '700px'\n",
    "interactive_plot"
   ]
  },
  {
   "cell_type": "code",
   "execution_count": null,
   "metadata": {},
   "outputs": [],
   "source": []
  }
 ],
 "metadata": {
  "kernelspec": {
   "display_name": "Python 3",
   "language": "python",
   "name": "python3"
  },
  "language_info": {
   "codemirror_mode": {
    "name": "ipython",
    "version": 3
   },
   "file_extension": ".py",
   "mimetype": "text/x-python",
   "name": "python",
   "nbconvert_exporter": "python",
   "pygments_lexer": "ipython3",
   "version": "3.7.6"
  }
 },
 "nbformat": 4,
 "nbformat_minor": 4
}
